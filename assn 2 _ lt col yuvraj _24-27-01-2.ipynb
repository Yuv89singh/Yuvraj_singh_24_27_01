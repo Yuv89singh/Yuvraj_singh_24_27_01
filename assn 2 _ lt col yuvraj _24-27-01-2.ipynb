{
 "cells": [
  {
   "cell_type": "code",
   "execution_count": null,
   "id": "2f857153-f282-41a2-85b9-cceb501d131a",
   "metadata": {},
   "outputs": [],
   "source": [
    "#Lt col yuvraj singh"
   ]
  },
  {
   "cell_type": "code",
   "execution_count": null,
   "id": "4c31f52b-5e1b-452e-8233-26afa6d86f81",
   "metadata": {},
   "outputs": [],
   "source": [
    "#24-27-01"
   ]
  },
  {
   "cell_type": "code",
   "execution_count": null,
   "id": "e171dfb6-e9a3-461a-9e1f-393d8faeb6e8",
   "metadata": {},
   "outputs": [],
   "source": [
    "#Mtech data sc "
   ]
  },
  {
   "cell_type": "code",
   "execution_count": 1,
   "id": "39f9b8fc-03d9-43c2-b4df-263b97ac0bb8",
   "metadata": {},
   "outputs": [],
   "source": [
    "#1 (a)question : Create a variable named var1 that stores an array of numbers from 0 to 30, inclusive. Print var1 and its shape. Hint : arange"
   ]
  },
  {
   "cell_type": "code",
   "execution_count": 3,
   "id": "0179a62e-a8c3-4a59-9d5b-7fc4ca5e2df5",
   "metadata": {},
   "outputs": [
    {
     "name": "stdout",
     "output_type": "stream",
     "text": [
      "var1: [ 0  1  2  3  4  5  6  7  8  9 10 11 12 13 14 15 16 17 18 19 20 21 22 23\n",
      " 24 25 26 27 28 29 30]\n",
      "Shape of var1: (31,)\n"
     ]
    }
   ],
   "source": [
    "import numpy as np\n",
    "\n",
    "# Creating a variable var1 that stores an array of numbers from 0 to 30 inclusive\n",
    "var1 = np.arange(31)\n",
    "\n",
    "# Printing the array and its shape\n",
    "print(\"var1:\", var1)\n",
    "print(\"Shape of var1:\", var1.shape)\n"
   ]
  },
  {
   "cell_type": "code",
   "execution_count": null,
   "id": "6a0baeab-4ad9-46fb-b58b-92209e415268",
   "metadata": {},
   "outputs": [],
   "source": [
    "# 1(b)question Change var2 to a validly-shaped two-dimensional matrix and store it in a\n",
    "# new variable called var2. Print var2 and its shape. Hint: Use the reshape function"
   ]
  },
  {
   "cell_type": "code",
   "execution_count": 5,
   "id": "73ef387e-9dee-49c1-a72f-0a8dd13a6b9b",
   "metadata": {},
   "outputs": [
    {
     "name": "stdout",
     "output_type": "stream",
     "text": [
      "var2:\n",
      " [[ 0  1  2  3  4  5]\n",
      " [ 6  7  8  9 10 11]\n",
      " [12 13 14 15 16 17]\n",
      " [18 19 20 21 22 23]\n",
      " [24 25 26 27 28 29]]\n",
      "Shape of var2: (5, 6)\n"
     ]
    }
   ],
   "source": [
    "import numpy as np\n",
    "\n",
    "# Creating a variable var1 that stores an array of numbers from 0 to 30 inclusive\n",
    "var1 = np.arange(30)\n",
    "\n",
    "# Reshape var1 to a validly-shaped 2D matrix\n",
    "var2 = var1.reshape(5, 6)  # 5 rows, 6 columns\n",
    "\n",
    "# Print var2 and its shape\n",
    "print(\"var2:\\n\", var2)\n",
    "print(\"Shape of var2:\", var2.shape)\n"
   ]
  },
  {
   "cell_type": "code",
   "execution_count": null,
   "id": "20308e9e-ebb3-43ad-8fb8-f755f7ee7ae6",
   "metadata": {},
   "outputs": [],
   "source": [
    "#1(c)Create a third variable, var3 that reshapes it into a valid three-dimensional shape. Print var3 and its shape."
   ]
  },
  {
   "cell_type": "code",
   "execution_count": 7,
   "id": "dc043fc5-e0d9-4145-b9db-3c66b45370ba",
   "metadata": {},
   "outputs": [
    {
     "name": "stdout",
     "output_type": "stream",
     "text": [
      "var3:\n",
      " [[[ 0  1  2  3  4]\n",
      "  [ 5  6  7  8  9]\n",
      "  [10 11 12 13 14]]\n",
      "\n",
      " [[15 16 17 18 19]\n",
      "  [20 21 22 23 24]\n",
      "  [25 26 27 28 29]]]\n",
      "Shape of var3: (2, 3, 5)\n"
     ]
    }
   ],
   "source": [
    "import numpy as np\n",
    "\n",
    "# Creating a variable var1 that stores an array of numbers from 0 to 30 inclusive\n",
    "var1 = np.arange(30)\n",
    "\n",
    "# Reshape var1 to a validly-shaped 2D matrix\n",
    "var2 = var1.reshape(5, 6)  # 5 rows, 6 columns\n",
    "\n",
    "# Reshape var2 into a valid 3D matrix\n",
    "var3 = var1.reshape(2, 3, 5)  # 2 blocks, 3 rows, 5 columns\n",
    "\n",
    "# Print var3 and its shape\n",
    "print(\"var3:\\n\", var3)\n",
    "print(\"Shape of var3:\", var3.shape)\n"
   ]
  },
  {
   "cell_type": "code",
   "execution_count": null,
   "id": "50c94b56-d287-4123-806c-d84af400cbf8",
   "metadata": {},
   "outputs": [],
   "source": [
    "#1(d)Use two-dimensional array indexing to set the first value in the second row of var2 to -1. Now look at var1 and var3. Did they change? Explain what’s\n",
    "#going on. (Hint: does reshape return a view or a copy?)"
   ]
  },
  {
   "cell_type": "code",
   "execution_count": 9,
   "id": "577329f3-b0cf-409c-9b5c-c55d7b30665c",
   "metadata": {},
   "outputs": [
    {
     "name": "stdout",
     "output_type": "stream",
     "text": [
      "var2 after modification:\n",
      " [[ 0  1  2  3  4  5]\n",
      " [-1  7  8  9 10 11]\n",
      " [12 13 14 15 16 17]\n",
      " [18 19 20 21 22 23]\n",
      " [24 25 26 27 28 29]]\n",
      "var1 after modification:\n",
      " [ 0  1  2  3  4  5 -1  7  8  9 10 11 12 13 14 15 16 17 18 19 20 21 22 23\n",
      " 24 25 26 27 28 29]\n",
      "var3 after modification:\n",
      " [[[ 0  1  2  3  4]\n",
      "  [ 5 -1  7  8  9]\n",
      "  [10 11 12 13 14]]\n",
      "\n",
      " [[15 16 17 18 19]\n",
      "  [20 21 22 23 24]\n",
      "  [25 26 27 28 29]]]\n"
     ]
    }
   ],
   "source": [
    "import numpy as np\n",
    "\n",
    "# Create var1 and reshape to var2 and var3\n",
    "var1 = np.arange(30)\n",
    "var2 = var1.reshape(5, 6)  # 2D array: 5 rows, 6 columns\n",
    "var3 = var1.reshape(2, 3, 5)  # 3D array: 2 blocks, 3 rows, 5 columns\n",
    "\n",
    "# Modify the first value in the second row of var2\n",
    "var2[1, 0] = -1  # Set the first element in the second row to -1\n",
    "\n",
    "# Print var1, var2, and var3 after modification\n",
    "print(\"var2 after modification:\\n\", var2)\n",
    "print(\"var1 after modification:\\n\", var1)\n",
    "print(\"var3 after modification:\\n\", var3)\n"
   ]
  },
  {
   "cell_type": "code",
   "execution_count": 11,
   "id": "477ab153-5678-4056-8c18-50822cd499ca",
   "metadata": {},
   "outputs": [
    {
     "name": "stdout",
     "output_type": "stream",
     "text": [
      "Sum of var3 over the second dimension (axis=1):\n",
      " [[15 18 21 24 27]\n",
      " [60 63 66 69 72]]\n",
      "\n",
      "Sum of var3 over the third dimension (axis=2):\n",
      " [[ 10  35  60]\n",
      " [ 85 110 135]]\n",
      "\n",
      "Sum of var3 over both the first and third dimensions (axis=(0,2)):\n",
      " [ 95 145 195]\n"
     ]
    }
   ],
   "source": [
    "#1(e)Another thing that comes up a lot with array shapes is thinking about how to aggregate over specific dimensions. Figure out how the NumPy sum function works (and the axis argument in particular) and do the following:\n",
    "#(i) Sum var3 over its second dimension and print the result.\n",
    "#(ii) Sum var3 over its third dimension and print the result.\n",
    "#(iii) Sum var3 over both its first and third dimensions and print the result.\n",
    "import numpy as np\n",
    "\n",
    "# Recreate var1 and reshape into var3\n",
    "var1 = np.arange(30)\n",
    "var3 = var1.reshape(2, 3, 5)  # 2 blocks, 3 rows, 5 columns\n",
    "\n",
    "# (i) Sum var3 over its second dimension (axis=1)\n",
    "sum_over_second_dim = np.sum(var3, axis=1)\n",
    "print(\"Sum of var3 over the second dimension (axis=1):\\n\", sum_over_second_dim)\n",
    "\n",
    "# (ii) Sum var3 over its third dimension (axis=2)\n",
    "sum_over_third_dim = np.sum(var3, axis=2)\n",
    "print(\"\\nSum of var3 over the third dimension (axis=2):\\n\", sum_over_third_dim)\n",
    "\n",
    "# (iii) Sum var3 over both its first and third dimensions (axis=(0,2))\n",
    "sum_over_first_and_third_dim = np.sum(var3, axis=(0, 2))\n",
    "print(\"\\nSum of var3 over both the first and third dimensions (axis=(0,2)):\\n\", sum_over_first_and_third_dim)\n"
   ]
  },
  {
   "cell_type": "code",
   "execution_count": null,
   "id": "113295a9-4830-4320-a7af-bfc067f2f565",
   "metadata": {},
   "outputs": [],
   "source": [
    "#1(f)Write code to do the following:\n",
    "#(i) Slice out the second row of var2 and print it.\n",
    "#(ii) Slice out the last column of var2 using the -1 notation and print it. (iii) Slice out the top right 2 × 2 submatrix of var2 and print it.\n"
   ]
  },
  {
   "cell_type": "code",
   "execution_count": 13,
   "id": "693bc12c-b4d6-4cc5-8f91-060180e19559",
   "metadata": {},
   "outputs": [
    {
     "name": "stdout",
     "output_type": "stream",
     "text": [
      "Second row of var2:\n",
      " [ 6  7  8  9 10 11]\n",
      "\n",
      "Last column of var2:\n",
      " [ 5 11 17 23 29]\n",
      "\n",
      "Top right 2x2 submatrix of var2:\n",
      " [[ 4  5]\n",
      " [10 11]]\n"
     ]
    }
   ],
   "source": [
    "import numpy as np\n",
    "\n",
    "# Create var1 and reshape to var2\n",
    "var1 = np.arange(30)\n",
    "var2 = var1.reshape(5, 6)  # 2D array: 5 rows, 6 columns\n",
    "\n",
    "# (i) Slice out the second row of var2 and print it\n",
    "second_row = var2[1, :]\n",
    "print(\"Second row of var2:\\n\", second_row)\n",
    "\n",
    "# (ii) Slice out the last column of var2 using the -1 notation and print it\n",
    "last_column = var2[:, -1]\n",
    "print(\"\\nLast column of var2:\\n\", last_column)\n",
    "\n",
    "# (iii) Slice out the top-right 2x2 submatrix of var2 and print it\n",
    "top_right_submatrix = var2[:2, -2:]\n",
    "print(\"\\nTop right 2x2 submatrix of var2:\\n\", top_right_submatrix)\n"
   ]
  },
  {
   "cell_type": "code",
   "execution_count": 15,
   "id": "278ff84b-80e8-4490-aaa1-089e3c5a84b4",
   "metadata": {},
   "outputs": [
    {
     "name": "stdout",
     "output_type": "stream",
     "text": [
      "Vector 1 to 10:\n",
      " [ 1  2  3  4  5  6  7  8  9 10]\n"
     ]
    }
   ],
   "source": [
    "# 2(a) question The most basic kind of broadcast is with a scalar, in which you can perform a binary operation (e.g., add, multiply, ...) on an array and a scalar, the effect is to perform that operation with the scalar for every element of the array. To try this out, create a vector 1, 2, . . . , 10 by adding 1 to the result of the arange function.\n",
    "import numpy as np\n",
    "\n",
    "# Create a vector from 0 to 9 using arange, and add 1 to each element\n",
    "vector = np.arange(10) + 1\n",
    "\n",
    "# Print the vector\n",
    "print(\"Vector 1 to 10:\\n\", vector)\n"
   ]
  },
  {
   "cell_type": "code",
   "execution_count": 17,
   "id": "f70af859-a066-4a94-96f2-61da8f6b149b",
   "metadata": {},
   "outputs": [
    {
     "name": "stdout",
     "output_type": "stream",
     "text": [
      "Matrix A (A[i, j] = i + j):\n",
      " [[ 2  3  4  5  6  7  8  9 10 11]\n",
      " [ 3  4  5  6  7  8  9 10 11 12]\n",
      " [ 4  5  6  7  8  9 10 11 12 13]\n",
      " [ 5  6  7  8  9 10 11 12 13 14]\n",
      " [ 6  7  8  9 10 11 12 13 14 15]\n",
      " [ 7  8  9 10 11 12 13 14 15 16]\n",
      " [ 8  9 10 11 12 13 14 15 16 17]\n",
      " [ 9 10 11 12 13 14 15 16 17 18]\n",
      " [10 11 12 13 14 15 16 17 18 19]\n",
      " [11 12 13 14 15 16 17 18 19 20]]\n"
     ]
    }
   ],
   "source": [
    "# question 2 (b)Now, create a 10 × 10 matrix A in which Ai j = i + j. You’ll be able to do this using the vector you just created, and adding it to a reshaped version of itself.\n",
    "import numpy as np\n",
    "\n",
    "# Create a vector from 1 to 10\n",
    "vector = np.arange(10) + 1  # [1, 2, ..., 10]\n",
    "\n",
    "# Create the 10x10 matrix A where A[i, j] = i + j\n",
    "A = vector.reshape(10, 1) + vector  # Broadcasting the vector to create the matrix\n",
    "\n",
    "# Print the resulting matrix A\n",
    "print(\"Matrix A (A[i, j] = i + j):\\n\", A)\n"
   ]
  },
  {
   "cell_type": "code",
   "execution_count": 19,
   "id": "be64b08e-4df8-43de-8579-ee293633a96f",
   "metadata": {},
   "outputs": [
    {
     "name": "stdout",
     "output_type": "stream",
     "text": [
      "Fake dataset (50 examples, 5 dimensions):\n",
      " [[ 0.32903775  1.10328889  1.07528577  1.68602614  2.4703175 ]\n",
      " [ 1.46285979  6.29485531  0.25237873  5.42730671  0.57765097]\n",
      " [ 0.45356943  3.44749313  0.62568537  0.66092142  0.69571721]\n",
      " [ 1.43239567  0.64143313  0.90428228  0.88007775  0.57846883]\n",
      " [ 4.74806068  1.68719151  0.62021384  1.89609948  2.62293973]\n",
      " [ 0.13701663  1.36819801  0.67139771  3.06370333  0.72492329]\n",
      " [ 9.98155646  0.70668183  0.28889945  0.50217656  0.43938507]\n",
      " [ 0.11503669  0.32357383  0.51276839  1.08146931  0.43000294]\n",
      " [ 3.447473    2.12107502  0.56966864  0.41953976  0.60384944]\n",
      " [ 3.29605221  0.51215082  0.22384366  0.34365577  0.90831824]\n",
      " [ 0.87702985  0.75634954  3.08647333  0.31699512  0.12318024]\n",
      " [ 1.50081627  1.1934728   3.21209611  0.66769381  5.01407025]\n",
      " [ 0.28936992  2.62193228  0.27458836  0.48727274  1.66204624]\n",
      " [ 2.01070994  1.34859125  2.10927624  0.97723882  2.10644361]\n",
      " [ 0.18364848  6.19982445  0.31527378  0.63912115  0.31585231]\n",
      " [ 1.30535003  0.41337522  0.98926429  0.61350792  3.21794899]\n",
      " [ 2.6562257   1.19780222  1.98135561  2.33221729  0.90931817]\n",
      " [ 1.52772942  1.24777339  0.25184918  1.13780755  0.69983708]\n",
      " [ 3.62718618  1.62452361  2.78781831  1.30731495  3.04294593]\n",
      " [ 3.96400887  1.2253217   0.60339088  1.05582712  4.24399134]\n",
      " [ 4.36552333  6.45415534  0.27226039  1.46281338  0.3045196 ]\n",
      " [ 0.46103148  0.20015082  2.33522152  1.04425599  0.72883615]\n",
      " [ 1.35379079  1.01685374  1.16609805  0.66672678  1.87748036]\n",
      " [ 0.30697543  1.87808664 10.44891939  1.7377722   0.51415262]\n",
      " [ 0.29778542  1.63360127  2.41565945  0.39438645  3.11766165]\n",
      " [ 0.2242182   2.19301035  3.44158485  2.10000628  4.11255877]\n",
      " [ 1.14106051  0.67148228  3.86983303  0.34296593  1.15030595]\n",
      " [ 3.3681552   0.62919786  0.4644142   2.14316197  7.23989462]\n",
      " [ 1.11063436  1.4430606   1.02711454  0.36397457  2.95064835]\n",
      " [ 0.30467904  0.58837463  1.04317548  1.95427506  0.59001072]\n",
      " [ 1.46851817  1.20179495  1.32966521  0.28275993  0.33856428]\n",
      " [ 0.76501444  2.56986422  0.37965567  1.42454611  1.14167453]\n",
      " [ 4.06321822  1.58507204  4.21670877  1.45032143  0.24974571]\n",
      " [ 0.86490894  0.28849488  1.8243221   0.27624591  0.75544587]\n",
      " [ 1.28927671  2.35010139  0.29876295  4.16793958  0.74794291]\n",
      " [ 1.57050936  0.31064024  1.11056239  1.26185023  1.36800308]\n",
      " [ 0.86965254  0.22362898  0.45597053  0.29344397  3.2286177 ]\n",
      " [ 0.67826132  0.40123032  0.81808946  2.69143456  5.86596305]\n",
      " [ 3.17558793  4.16658544  1.98571973  0.59169982  3.49296242]\n",
      " [ 0.28138155  4.59003489  1.47672225  2.0326116   0.76134071]\n",
      " [ 0.40843471  0.59960494  0.2576859   3.2905123  12.0851599 ]\n",
      " [ 0.51392019  0.81790415  0.79825992  0.84606291  1.79767782]\n",
      " [ 0.84012701  1.54253053  0.37712309  7.30020727  2.88700905]\n",
      " [ 2.69800761  0.14361094  0.5826687   0.42552517  0.53730352]\n",
      " [ 0.67813048  0.69524185  1.56354178  2.75496216  3.24811556]\n",
      " [ 4.78032744  0.52933346  0.65518788  0.60371451  2.4811509 ]\n",
      " [ 0.3211103   1.47378685  0.17951736  0.95116446  0.89640836]\n",
      " [ 0.62272935  2.17357276  0.38081992  0.23343666  0.24196048]\n",
      " [ 0.21898631  0.92733138  1.26191068  0.73177584  2.72994977]\n",
      " [ 1.40384697  3.85383386  0.42594229  0.40557849  1.09488336]]\n"
     ]
    }
   ],
   "source": [
    "#A very common use of broadcasting is to standardize data, i.e., to make it have zero mean and unit variance. First, create a fake “data set” with 50 examples, each with five dimensions. import numpy.random as npr\n",
    " #data = np.exp(npr.randn ( 50 , 5 ) import numpy as np\n",
    "import numpy.random as npr\n",
    "\n",
    "# Create a fake dataset with 50 examples, each with 5 dimensions\n",
    "data = np.exp(npr.randn(50, 5))\n",
    "\n",
    "# Print the resulting dataset\n",
    "print(\"Fake dataset (50 examples, 5 dimensions):\\n\", data)\n"
   ]
  },
  {
   "cell_type": "code",
   "execution_count": 21,
   "id": "67dd4c3b-6614-44dc-b6f1-16c76e889ee1",
   "metadata": {},
   "outputs": [
    {
     "name": "stdout",
     "output_type": "stream",
     "text": [
      "Mean of each column:\n",
      " [1.47191048 1.89906382 1.89683598 1.59776489 1.4436391 ]\n",
      "\n",
      "Standard deviation of each column:\n",
      " [1.77726077 2.83924533 2.06686152 1.44438456 1.44291889]\n"
     ]
    }
   ],
   "source": [
    "#Now, compute the mean and standard deviation of each column. This should result in two vectors of length 5. You’ll need to think a little bit about how to use the axis argument to mean and std. Store these vectors into variables and print both of them.\n",
    "import numpy as np\n",
    "import numpy.random as npr\n",
    "\n",
    "# Create a fake dataset with 50 examples, each with 5 dimensions\n",
    "data = np.exp(npr.randn(50, 5))\n",
    "\n",
    "# Compute the mean of each column (axis=0)\n",
    "mean_vector = np.mean(data, axis=0)\n",
    "\n",
    "# Compute the standard deviation of each column (axis=0)\n",
    "std_vector = np.std(data, axis=0)\n",
    "\n",
    "# Print the mean and standard deviation vectors\n",
    "print(\"Mean of each column:\\n\", mean_vector)\n",
    "print(\"\\nStandard deviation of each column:\\n\", std_vector)\n"
   ]
  },
  {
   "cell_type": "code",
   "execution_count": 23,
   "id": "d29df430-1aad-4a3b-935a-021e47cd7892",
   "metadata": {},
   "outputs": [
    {
     "name": "stdout",
     "output_type": "stream",
     "text": [
      "Normalized data:\n",
      " [[-1.13974170e+00  1.47439086e+00 -8.87478555e-02 -8.78181046e-01\n",
      "  -7.76489960e-02]\n",
      " [ 1.61312547e-01 -7.33764515e-01  5.75370386e+00  1.82684859e+00\n",
      "   1.88806490e+00]\n",
      " [-4.23639985e-01  1.03801610e+00 -6.54433329e-01 -6.98051287e-01\n",
      "  -8.91811532e-01]\n",
      " [-5.27296495e-01  4.34023905e-01 -6.39729263e-01  4.40142171e-01\n",
      "  -2.69288713e-01]\n",
      " [-4.05770632e-01  3.45125987e+00 -5.95683384e-01 -7.26035858e-01\n",
      "   1.16299523e-01]\n",
      " [ 3.69634401e-02  1.98943814e-01  1.57823151e-01 -7.08593539e-01\n",
      "  -8.05075075e-01]\n",
      " [-8.61093252e-01 -7.83890572e-01 -1.19219225e-01 -7.13538107e-01\n",
      "  -7.69050844e-02]\n",
      " [-9.37612238e-01 -4.65058043e-02 -1.05359672e-01 -5.30293423e-01\n",
      "   1.72400523e-01]\n",
      " [ 4.50831768e+00 -8.27379988e-01 -3.52129501e-01  1.73992389e-02\n",
      "  -3.76123507e-01]\n",
      " [ 2.02237143e+00 -1.73952166e-01 -3.26974326e-01 -7.57336707e-01\n",
      "  -6.41845194e-01]\n",
      " [ 2.21874433e+00 -7.73828105e-01 -6.81265763e-01  1.86395250e+00\n",
      "   1.00197249e+00]\n",
      " [ 3.84877294e-02 -5.47618549e-01 -2.45869812e-01  5.00876918e-01\n",
      "   2.75187447e+00]\n",
      " [-7.11593949e-01 -6.09201507e-01 -6.98067436e-01 -2.11744058e-01\n",
      "   1.40638439e-01]\n",
      " [ 1.15282284e+00 -8.66715086e-01 -2.41931395e-01 -8.64979354e-02\n",
      "  -4.23541840e-01]\n",
      " [ 3.72380092e-01  8.72676706e-01 -1.59448479e-01 -4.69035386e-01\n",
      "   4.21117323e+00]\n",
      " [-5.20649443e-01  1.90783330e-01 -1.95335582e-01 -5.71596912e-01\n",
      "  -4.66952672e-01]\n",
      " [-9.22174451e-01  3.40569121e-01  6.45448340e-01 -4.74182056e-01\n",
      "   6.41744626e-01]\n",
      " [-6.52316094e-01  3.68981924e-01  4.22589893e-01  2.12592417e+00\n",
      "  -7.92519470e-01]\n",
      " [-7.04519525e-01  7.29711488e-01 -6.36182129e-01  4.35911060e-01\n",
      "  -5.29811290e-01]\n",
      " [ 1.10015690e-01  2.43730280e-01  5.21213740e-02 -7.40879624e-01\n",
      "   4.61498622e-01]\n",
      " [-2.49885340e-01 -1.02991177e-01 -4.94654442e-01  2.52212035e+00\n",
      "  -3.10154922e-01]\n",
      " [ 1.99771433e-01 -2.08850450e-01 -4.42248215e-01 -7.23965645e-01\n",
      "  -6.53284914e-01]\n",
      " [-8.35082119e-01  2.93484720e-01  1.44688380e+00  4.86593215e-01\n",
      "  -6.92502953e-01]\n",
      " [-6.72080743e-01 -9.05572427e-01  7.21534617e-01  3.58883724e+00\n",
      "   1.36942678e+00]\n",
      " [-1.69689783e-01  3.38936484e-02  1.15501932e-01 -7.48843892e-01\n",
      "  -6.99244397e-01]\n",
      " [-6.81671624e-01  3.08804105e-01 -6.01542994e-01 -5.48833353e-01\n",
      "  -8.19421579e-01]\n",
      " [ 3.21767009e-01 -2.96657791e-01 -5.74070302e-02 -6.15045173e-01\n",
      "   1.09227474e+00]\n",
      " [ 8.20816168e-01 -9.70982713e-01 -6.32959005e-01  1.09644634e+00\n",
      "  -6.09082222e-01]\n",
      " [ 1.86010355e+00 -5.40037837e-01 -5.51730921e-01 -1.44843891e-01\n",
      "  -2.97681450e-01]\n",
      " [-4.67132748e-01 -4.41905668e-01 -2.17885501e-01 -4.72390330e-01\n",
      "  -7.49815417e-01]\n",
      " [ 9.91734126e-01 -2.74631517e-01 -5.90032326e-01 -8.19214327e-01\n",
      "  -8.03908394e-01]\n",
      " [-4.50140455e-01 -3.37930309e-01 -5.50201974e-03  3.89389282e-01\n",
      "  -3.24899859e-01]\n",
      " [-5.49058646e-01 -5.71833758e-01 -8.46707948e-02 -1.53149920e-01\n",
      "  -8.37206841e-01]\n",
      " [-6.98056689e-02  3.46944469e-01 -6.00363743e-01 -7.31165928e-01\n",
      "  -4.72884036e-01]\n",
      " [-6.68662809e-01 -9.35595649e-01  1.22174521e-02  9.54808043e-02\n",
      "  -3.94776254e-01]\n",
      " [-1.72080671e-01 -6.69751817e-01 -6.57019104e-01  3.76171229e-01\n",
      "   1.17088930e+00]\n",
      " [-5.55641207e-01 -9.03519454e-01 -1.72194850e-01  2.03303260e+00\n",
      "  -6.37464323e-02]\n",
      " [-3.81459654e-02 -9.31243308e-01 -5.91011210e-01 -8.72530218e-01\n",
      "  -3.69246147e-01]\n",
      " [-2.42044054e-01 -8.09260943e-01 -1.59694837e-02  1.77245062e-01\n",
      "  -3.42762729e-01]\n",
      " [-5.72032125e-01  1.46129939e+00  8.23171919e-01 -7.63321055e-01\n",
      "  -7.97702732e-01]\n",
      " [-2.79390768e-02 -5.81881466e-01  2.23933861e-01  6.83399926e-01\n",
      "  -6.80501530e-01]\n",
      " [-2.32143267e-01 -1.02734929e+00 -2.32287739e-01 -5.97321573e-01\n",
      "  -5.09240757e-01]\n",
      " [ 1.36129694e-01 -3.63223588e-02 -4.78986126e-01 -5.53131930e-02\n",
      "   1.32148473e+00]\n",
      " [-8.45310862e-01 -4.82860824e-01  2.15530551e+00 -1.19005769e-01\n",
      "   1.20764171e+00]\n",
      " [-3.20097002e-01  3.06945268e+00  2.42407730e-01 -6.29472477e-01\n",
      "  -4.24876721e-01]\n",
      " [-2.39347457e-03 -9.85378591e-02 -3.67879350e-01 -6.29225901e-01\n",
      "   5.49005383e-01]\n",
      " [-9.74121232e-01  2.91284088e-01 -7.12016973e-01 -3.27492726e-01\n",
      "  -4.67378769e-01]\n",
      " [ 1.35181982e+00 -7.20073835e-01  1.01413871e+00 -6.65129321e-01\n",
      "  -6.85044787e-03]\n",
      " [ 6.41757895e-01 -7.40440664e-01 -3.98256332e-01 -6.81126591e-01\n",
      "  -5.27189329e-01]\n",
      " [-3.43748835e-01  2.80283690e+00 -1.41786847e-01 -7.96413479e-01\n",
      "  -8.90507259e-01]]\n",
      "\n",
      "Mean of each column in normalized data:\n",
      " [ 1.33226763e-16  8.88178420e-18  4.60742555e-17 -7.32747196e-17\n",
      "  4.44089210e-17]\n",
      "\n",
      "Standard deviation of each column in normalized data:\n",
      " [1. 1. 1. 1. 1.]\n"
     ]
    }
   ],
   "source": [
    "#Now standardize the data matrix by 1) subtracting the mean off of each column, and 2) dividing each column by its standard deviation. Do this via broadcasting, and store the result in a matrix called normalized. To verify that you successfully did it, compute the mean and standard deviation of\n",
    "#the columns of normalized and print them out.\n",
    "import numpy as np\n",
    "import numpy.random as npr\n",
    "\n",
    "# Create a fake dataset with 50 examples, each with 5 dimensions\n",
    "data = np.exp(npr.randn(50, 5))\n",
    "\n",
    "# Compute the mean and standard deviation of each column\n",
    "mean_vector = np.mean(data, axis=0)\n",
    "std_vector = np.std(data, axis=0)\n",
    "\n",
    "# Standardize the data\n",
    "normalized = (data - mean_vector) / std_vector\n",
    "\n",
    "# Verify the normalization by computing the mean and standard deviation of the normalized data\n",
    "mean_normalized = np.mean(normalized, axis=0)\n",
    "std_normalized = np.std(normalized, axis=0)\n",
    "\n",
    "# Print the normalized data, its mean, and standard deviation\n",
    "print(\"Normalized data:\\n\", normalized)\n",
    "print(\"\\nMean of each column in normalized data:\\n\", mean_normalized)\n",
    "print(\"\\nStandard deviation of each column in normalized data:\\n\", std_normalized)\n"
   ]
  },
  {
   "cell_type": "code",
   "execution_count": 25,
   "id": "d58c7cbb-fc88-4362-80e1-4d890a121635",
   "metadata": {},
   "outputs": [],
   "source": [
    "#question 3 A Vandermonde matrix is a matrix generated from a vector in which each column of the matrix is an integer power starting from zero. So, if I have a column vector [x1, x2, . . . , xN]T , then the associated (square) Vandermonde matrix would be Use what you learned about broadcasting in the previous problem to write a function that will produce a Vandermonde matrix for a vector [1, 2, . . . ,N]T for any N. Do it without using a loop."
   ]
  },
  {
   "cell_type": "code",
   "execution_count": 27,
   "id": "7910c857-74dd-4c71-97be-484d80b551c3",
   "metadata": {},
   "outputs": [
    {
     "name": "stdout",
     "output_type": "stream",
     "text": [
      "Vandermonde matrix for N=5:\n",
      " [[  1   1   1   1   1]\n",
      " [  1   2   4   8  16]\n",
      " [  1   3   9  27  81]\n",
      " [  1   4  16  64 256]\n",
      " [  1   5  25 125 625]]\n"
     ]
    }
   ],
   "source": [
    "import numpy as np\n",
    "\n",
    "def vandermonde_matrix(N):\n",
    "    # Create a column vector from 1 to N\n",
    "    vector = np.arange(1, N + 1).reshape(-1, 1)  # Column vector\n",
    "    \n",
    "    # Create the Vandermonde matrix using broadcasting\n",
    "    vandermonde = vector ** np.arange(N)  # Raise the vector to the power of each column index\n",
    "\n",
    "    return vandermonde\n",
    "\n",
    "# Example usage\n",
    "N = 5\n",
    "vander_matrix = vandermonde_matrix(N)\n",
    "print(f\"Vandermonde matrix for N={N}:\\n\", vander_matrix)\n"
   ]
  },
  {
   "cell_type": "code",
   "execution_count": null,
   "id": "b08e7f5d-311e-4ae9-9c34-b5f12e9ce7cf",
   "metadata": {},
   "outputs": [],
   "source": [
    "# question 3 () Now, let’s make a pretend linear system problem with this matrix. Create a vector\n",
    "#of all ones, of length 12 and call it x. Perform a matrix-vector multiplication of vander with the vector you just created and store that in a new vector and call it b. Print the vector b."
   ]
  },
  {
   "cell_type": "code",
   "execution_count": 29,
   "id": "0b5a4576-504f-4bae-9928-3a5bfe1a3794",
   "metadata": {},
   "outputs": [
    {
     "name": "stdout",
     "output_type": "stream",
     "text": [
      "Vector b (result of matrix-vector multiplication):\n",
      " [1.20000000e+01 4.09500000e+03 2.65720000e+05 5.59240500e+06\n",
      " 6.10351560e+07 4.35356467e+08 2.30688120e+09 9.81706810e+09\n",
      " 3.53036921e+10 1.11111111e+11 3.13842838e+11 8.10554586e+11]\n"
     ]
    }
   ],
   "source": [
    "import numpy as np\n",
    "\n",
    "def vandermonde_matrix(N):\n",
    "    # Create a column vector from 1 to N\n",
    "    vector = np.arange(1, N + 1).reshape(-1, 1)  # Column vector\n",
    "    \n",
    "    # Create the Vandermonde matrix using broadcasting\n",
    "    vandermonde = vector ** np.arange(N)  # Raise the vector to the power of each column index\n",
    "\n",
    "    return vandermonde\n",
    "\n",
    "# Define N for the Vandermonde matrix\n",
    "N = 12\n",
    "vander = vandermonde_matrix(N)\n",
    "\n",
    "# Create a vector of all ones of length 12\n",
    "x = np.ones(N)\n",
    "\n",
    "# Perform matrix-vector multiplication\n",
    "b = vander @ x  # Alternatively, you can use np.dot(vander, x)\n",
    "\n",
    "# Print the resulting vector b\n",
    "print(\"Vector b (result of matrix-vector multiplication):\\n\", b)\n"
   ]
  },
  {
   "cell_type": "code",
   "execution_count": 31,
   "id": "77e8d6b3-852a-4121-85b6-f91abb32204b",
   "metadata": {},
   "outputs": [
    {
     "name": "stdout",
     "output_type": "stream",
     "text": [
      "Solution for x (using naive method):\n",
      " [-12.26953125   5.90625     15.421875    -6.03515625   2.05859375\n",
      "   0.92675781   1.00244141   1.00010681   0.99997711   1.00000131\n",
      "   0.99999996   1.        ]\n"
     ]
    }
   ],
   "source": [
    "#First, solve the linear system the naïve way, pretending like you don’t know x. Import numpy.linalg, invert V and multiply it by b. Print out your result. What should you get for your answer? If the answer is different than what you expected, write a sentence about that difference.\n",
    "import numpy as np\n",
    "\n",
    "def vandermonde_matrix(N):\n",
    "    # Create a column vector from 1 to N\n",
    "    vector = np.arange(1, N + 1).reshape(-1, 1)  # Column vector\n",
    "    \n",
    "    # Create the Vandermonde matrix using broadcasting\n",
    "    vandermonde = vector ** np.arange(N)  # Raise the vector to the power of each column index\n",
    "\n",
    "    return vandermonde\n",
    "\n",
    "# Define N for the Vandermonde matrix\n",
    "N = 12\n",
    "vander = vandermonde_matrix(N)\n",
    "\n",
    "# Create a vector of all ones of length 12\n",
    "x = np.ones(N)\n",
    "\n",
    "# Perform matrix-vector multiplication to get b\n",
    "b = vander @ x\n",
    "\n",
    "# Importing numpy.linalg to solve the linear system\n",
    "import numpy.linalg as linalg\n",
    "\n",
    "# Solve the linear system by inverting the Vandermonde matrix and multiplying by b\n",
    "x_solution = linalg.inv(vander) @ b\n",
    "\n",
    "# Print the result\n",
    "print(\"Solution for x (using naive method):\\n\", x_solution)\n"
   ]
  },
  {
   "cell_type": "code",
   "execution_count": 33,
   "id": "240e8e84-e2d5-4113-9252-26b76c3bbaa0",
   "metadata": {},
   "outputs": [
    {
     "name": "stdout",
     "output_type": "stream",
     "text": [
      "Solution for x (using solve method):\n",
      " [0.98080503 1.05139768 0.94513807 1.03151945 0.98899166 1.00248816\n",
      " 0.99962407 1.0000384  0.99999737 1.00000012 1.         1.        ]\n"
     ]
    }
   ],
   "source": [
    "# question Now, solve the same linear system using solve. Print out the result. Does it seem more or less in line with what you’d expect?\n",
    "import numpy as np\n",
    "\n",
    "def vandermonde_matrix(N):\n",
    "    # Create a column vector from 1 to N\n",
    "    vector = np.arange(1, N + 1).reshape(-1, 1)  # Column vector\n",
    "    \n",
    "    # Create the Vandermonde matrix using broadcasting\n",
    "    vandermonde = vector ** np.arange(N)  # Raise the vector to the power of each column index\n",
    "\n",
    "    return vandermonde\n",
    "\n",
    "# Define N for the Vandermonde matrix\n",
    "N = 12\n",
    "vander = vandermonde_matrix(N)\n",
    "\n",
    "# Create a vector of all ones of length 12\n",
    "x = np.ones(N)\n",
    "\n",
    "# Perform matrix-vector multiplication to get b\n",
    "b = vander @ x\n",
    "\n",
    "# Importing numpy.linalg to solve the linear system\n",
    "import numpy.linalg as linalg\n",
    "\n",
    "# Solve the linear system using numpy.linalg.solve\n",
    "x_solution_solve = linalg.solve(vander, b)\n",
    "\n",
    "# Print the result\n",
    "print(\"Solution for x (using solve method):\\n\", x_solution_solve)\n"
   ]
  },
  {
   "cell_type": "code",
   "execution_count": null,
   "id": "25eafa50-48ea-497a-939c-41ab324637c2",
   "metadata": {},
   "outputs": [],
   "source": [
    "https://github.com/Yuv89singh/Yuvraj_singh_24_27_01.git"
   ]
  }
 ],
 "metadata": {
  "kernelspec": {
   "display_name": "Python 3 (ipykernel)",
   "language": "python",
   "name": "python3"
  },
  "language_info": {
   "codemirror_mode": {
    "name": "ipython",
    "version": 3
   },
   "file_extension": ".py",
   "mimetype": "text/x-python",
   "name": "python",
   "nbconvert_exporter": "python",
   "pygments_lexer": "ipython3",
   "version": "3.12.4"
  }
 },
 "nbformat": 4,
 "nbformat_minor": 5
}
